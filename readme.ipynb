{
 "cells": [
  {
   "cell_type": "markdown",
   "id": "96b753be",
   "metadata": {},
   "source": [
    "pip install fastapi uvicorn"
   ]
  },
  {
   "cell_type": "markdown",
   "id": "08e9ee43",
   "metadata": {},
   "source": [
    "# Avviare il server\n",
    "\n",
    "locale\n",
    "\n",
    "uvicorn main:app --host 0.0.0.0 --port 8080 \n",
    "\n",
    "oppure\n",
    "\n",
    "python -m uvicorn main:app --host 0.0.0.0 --port 8080\n",
    "\n",
    "remoto\n",
    "\n",
    "uvicorn main:app --host 80.88.88.48 --port 11000\n",
    "\n",
    "Ora l’API sarà disponibile su: http://localhost:8080/ai"
   ]
  },
  {
   "cell_type": "markdown",
   "id": "6953a954",
   "metadata": {},
   "source": [
    "# Containerizzazione (Docker)\n",
    "\n",
    "Crea un Dockerfile:\n",
    "- FROM python:3.11-slim\n",
    "- WORKDIR /app\n",
    "- //Copia solo il file Python\n",
    "- COPY main.py .\n",
    "- //Installa le dipendenze direttamente\n",
    "- RUN pip install fastapi uvicorn sentence-transformers langdetect\n",
    "- //Comando per partire\n",
    "- CMD [\"uvicorn\", \"main:app\", \"--host\", \"0.0.0.0\", \"--port\", \"8080\"]\n",
    "\n",
    "\n",
    "\n",
    "Poi buildi e runni:\n",
    "- docker build -t python-microservice .\n",
    "- docker run -p 8080:8080 python-microservice\n"
   ]
  }
 ],
 "metadata": {
  "kernelspec": {
   "display_name": "Python 3",
   "language": "python",
   "name": "python3"
  },
  "language_info": {
   "codemirror_mode": {
    "name": "ipython",
    "version": 3
   },
   "file_extension": ".py",
   "mimetype": "text/x-python",
   "name": "python",
   "nbconvert_exporter": "python",
   "pygments_lexer": "ipython3",
   "version": "3.11.8"
  }
 },
 "nbformat": 4,
 "nbformat_minor": 5
}
