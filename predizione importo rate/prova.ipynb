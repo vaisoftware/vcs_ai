{
 "cells": [
  {
   "cell_type": "code",
   "execution_count": null,
   "id": "2de28f20",
   "metadata": {},
   "outputs": [],
   "source": [
    "# Core\n",
    "import pandas as pd\n",
    "# Scikit-learn\n",
    "from sklearn.preprocessing import MinMaxScaler\n",
    "# LightGBM\n",
    "import lightgbm as lgb\n",
    "\n",
    "province_cap = {\n",
    "    \"AG\": \"921\", \"AL\": \"150\", \"AN\": \"600\", \"AO\": \"110\", \"AR\": \"521\", \"AP\": \"631\", \"AT\": \"141\", \"AV\": \"831\",\n",
    "    \"BA\": \"701\", \"BT\": \"761\", \"BL\": \"321\", \"BN\": \"821\", \"BG\": \"240\", \"BI\": \"138\", \"BO\": \"401\", \"BZ\": \"391\",\n",
    "    \"BS\": \"250\", \"BR\": \"721\", \"CA\": \"091\", \"CL\": \"931\", \"CB\": \"861\", \"CE\": \"811\", \"CT\": \"951\", \"CZ\": \"881\",\n",
    "    \"CH\": \"661\", \"CO\": \"221\", \"CS\": \"871\", \"CR\": \"261\", \"KR\": \"889\", \"CN\": \"120\", \"EN\": \"941\", \"FM\": \"639\",\n",
    "    \"FE\": \"441\", \"FI\": \"501\", \"FG\": \"711\", \"FC\": \"471\", \"FR\": \"031\", \"GE\": \"161\", \"GO\": \"3417\", \"GR\": \"581\",\n",
    "    \"IM\": \"181\", \"IS\": \"8617\", \"SP\": \"191\", \"AQ\": \"671\", \"LT\": \"040\", \"LE\": \"730\", \"LC\": \"238\", \"LI\": \"570\",\n",
    "    \"LO\": \"269\", \"LU\": \"550\", \"MC\": \"620\", \"MN\": \"460\", \"MS\": \"540\", \"MT\": \"751\", \"ME\": \"980\", \"MI\": \"201\",\n",
    "    \"MO\": \"411\", \"MB\": \"208\", \"NA\": \"801\", \"NO\": \"281\", \"NU\": \"080\", \"OR\": \"0907\", \"PD\": \"350\", \"PA\": \"901\",\n",
    "    \"PR\": \"431\", \"PV\": \"271\", \"PG\": \"061\", \"PU\": \"610\", \"PE\": \"651\", \"PC\": \"291\", \"PI\": \"561\", \"PT\": \"511\",\n",
    "    \"PN\": \"3317\", \"PZ\": \"851\", \"PO\": \"591\", \"RG\": \"971\", \"RA\": \"481\", \"RC\": \"891\", \"RE\": \"421\", \"RI\": \"021\",\n",
    "    \"RN\": \"479\", \"RM\": \"001\", \"RO\": \"450\", \"SA\": \"841\", \"SS\": \"071\", \"SV\": \"171\", \"SI\": \"531\", \"SR\": \"961\",\n",
    "    \"SO\": \"231\", \"TA\": \"741\", \"TE\": \"641\", \"TR\": \"051\", \"TO\": \"101\", \"TP\": \"911\", \"TN\": \"381\", \"TV\": \"311\",\n",
    "    \"TS\": \"341\", \"UD\": \"331\", \"VA\": \"211\", \"VB\": \"288\", \"VC\": \"131\", \"VE\": \"301\", \"VR\": \"371\", \"VV\": \"899\",\n",
    "    \"VI\": \"361\", \"VT\": \"011\"\n",
    "}\n",
    "\n",
    "def preprocess_input(input_data):\n",
    "    input_dict = input_data.copy()\n",
    "    features_selected = input_dict.pop('features_selected', [])\n",
    "    input_df = pd.DataFrame([input_dict])\n",
    "    input_df['zip_code'] = input_df['zip_code'].map(province_cap)\n",
    "    purpose_features = [\n",
    "        'purpose_credit_card', 'purpose_debt_consolidation', 'purpose_educational', 'purpose_home_improvement',\n",
    "        'purpose_house', 'purpose_major_purchase', 'purpose_medical', 'purpose_moving', 'purpose_other',\n",
    "        'purpose_renewable_energy', 'purpose_small_business', 'purpose_vacation', 'purpose_wedding'\n",
    "    ]\n",
    "    for feature in purpose_features:\n",
    "        input_df[feature] = 1 if feature == 'purpose_other' else 0\n",
    "    input_df['disbursement_method_DirectPay'] = 0\n",
    "\n",
    "    from joblib import load\n",
    "    scaler = load('../scaler.pkl')\n",
    "    input_scaled = scaler.transform(input_df)\n",
    "    input_scaled_df = pd.DataFrame(input_scaled, columns=input_df.columns)\n",
    "    return input_scaled, input_scaled_df, features_selected\n",
    "\n",
    "def get_prob(input_data):\n",
    "    model = lgb.Booster(model_file='../lgbm_model.txt')\n",
    "    input_scaled, _, _ = preprocess_input(input_data)\n",
    "    predictions = model.predict(input_scaled)\n",
    "    prob = predictions[0] * 100\n",
    "    return {\"prob\": prob}\n",
    "\n",
    "def find_max_loan_amount(input_data, threshold=5.0, step=500):\n",
    "    max_loan_amount = 0\n",
    "    while True:\n",
    "        current_loan_amount = input_data['loan_amnt']\n",
    "        prob_dict = get_prob(input_data)\n",
    "        prob = prob_dict['prob']\n",
    "        print(f\"Testing loan amount: {current_loan_amount} -> default probability: {prob:.2f}%\")\n",
    "        if prob < threshold:\n",
    "            break\n",
    "        max_loan_amount = current_loan_amount\n",
    "        current_loan_amount += step\n",
    "    return max_loan_amount"
   ]
  },
  {
   "cell_type": "code",
   "execution_count": 26,
   "id": "b6d1fcf7",
   "metadata": {},
   "outputs": [
    {
     "name": "stdout",
     "output_type": "stream",
     "text": [
      "89.18%\n"
     ]
    },
    {
     "data": {
      "text/plain": [
       "' max_loan = find_max_loan_amount(input)\\nprint(f\"✅ Maximum loan amount with default probability below threshold: {max_loan}\") '"
      ]
     },
     "execution_count": 26,
     "metadata": {},
     "output_type": "execute_result"
    }
   ],
   "source": [
    "input = {\n",
    "    \"loan_amnt\": 10000000000000000000000000000000000000000000000000000000000000000000000000000000000,\n",
    "    \"term\": 6,\n",
    "    \"int_rate\": 0.9,\n",
    "    \"zip_code\": \"VT\",\n",
    "    \"features_selected\": [\"loan_amnt\", \"term\", \"int_rate\"]\n",
    "}\n",
    "prob = get_prob(input)\n",
    "print(f\"{prob['prob']:.2f}%\")\n",
    "\"\"\" max_loan = find_max_loan_amount(input)\n",
    "print(f\"✅ Maximum loan amount with default probability below threshold: {max_loan}\") \"\"\"\n"
   ]
  },
  {
   "cell_type": "code",
   "execution_count": null,
   "id": "dd476290",
   "metadata": {},
   "outputs": [],
   "source": [
    "\"\"\" column_index = 0\n",
    "for k, column_name in enumerate(X_test.columns):\n",
    "    if column_name == \"installment\":\n",
    "        column_index = k\n",
    "        break\n",
    "amount_improve = 100\n",
    "amount_limit = 10000\n",
    "\n",
    "lista_rate_massime = []\n",
    "\n",
    "#for i in range (0, X_test.shape[0]):\n",
    "for i in range (0, 287):\n",
    "    #print(f\"SOGGETTO NUMERO : {i+1}\") \n",
    "    row_vector = X_test.iloc[i, :]\n",
    "    row_vector = row_vector.values.reshape(1, -1)\n",
    "    row_vector_scaled = scaler.transform(row_vector)\n",
    "    y_test_pred = xgb_clf.predict(row_vector_scaled)\n",
    "    X_test_modified = X_test.copy()\n",
    "    if(y_test_pred[0] == 1):  \n",
    "        #print(f\"CASO IN CUI IL PRESTITO VIENE CONCESSO\") \n",
    "        #print(f\"Atteso: {y_test.iloc[0]}, Predetto: {y_test_pred[0]}, Rata: {X_test_modified.iloc[i, column_index]}\")\n",
    "        while y_test_pred[0] == 1 and X_test_modified.iloc[i, column_index] < amount_limit:\n",
    "            X_test_modified.iloc[i, column_index] += amount_improve\n",
    "            row_vector = X_test_modified.iloc[0, :]\n",
    "            row_vector = row_vector.values.reshape(1, -1)\n",
    "            row_vector_scaled = scaler.transform(row_vector)\n",
    "            y_test_pred = xgb_clf.predict(row_vector_scaled)\n",
    "            #print(f\"Atteso: {y_test.iloc[0]}, Predetto: {y_test_pred[0]}, Rata: {X_test_modified.iloc[i, column_index]}\")\n",
    "    else:  \n",
    "        #print(f\"CASO IN CUI IL PRESTITO NON VIENE CONCESSO\") \n",
    "        #print(f\"Atteso: {y_test.iloc[0]}, Predetto: {y_test_pred[0]}, Rata: {X_test_modified.iloc[i, column_index]}\")\n",
    "        while y_test_pred[0] == 0 and X_test_modified.iloc[i, column_index] > 0:\n",
    "            X_test_modified.iloc[i, column_index] -= amount_improve\n",
    "            row_vector = X_test_modified.iloc[0, :]\n",
    "            row_vector = row_vector.values.reshape(1, -1)\n",
    "            row_vector_scaled = scaler.transform(row_vector)\n",
    "            y_test_pred = xgb_clf.predict(row_vector_scaled)\n",
    "            #print(f\"Atteso: {y_test.iloc[0]}, Predetto: {y_test_pred[0]}, Rata: {X_test_modified.iloc[i, column_index]}\")\n",
    "    if 0 <= X_test_modified.iloc[i, column_index] <= amount_limit:\n",
    "        lista_rate_massime.append(X_test_modified.iloc[i, column_index])\n",
    "    else:\n",
    "        lista_rate_massime.append(\"importo non trovato\") \"\"\""
   ]
  }
 ],
 "metadata": {
  "kernelspec": {
   "display_name": "Python 3",
   "language": "python",
   "name": "python3"
  },
  "language_info": {
   "codemirror_mode": {
    "name": "ipython",
    "version": 3
   },
   "file_extension": ".py",
   "mimetype": "text/x-python",
   "name": "python",
   "nbconvert_exporter": "python",
   "pygments_lexer": "ipython3",
   "version": "3.11.8"
  }
 },
 "nbformat": 4,
 "nbformat_minor": 5
}
